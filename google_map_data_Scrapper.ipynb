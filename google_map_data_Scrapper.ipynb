{
 "cells": [
  {
   "cell_type": "code",
   "execution_count": 2,
   "metadata": {},
   "outputs": [
    {
     "name": "stdout",
     "output_type": "stream",
     "text": [
      "Collecting selenium\n",
      "  Using cached selenium-3.141.0-py2.py3-none-any.whl (904 kB)\n",
      "Requirement already satisfied: urllib3 in c:\\users\\rajam\\anaconda3\\lib\\site-packages (from selenium) (1.25.11)\n",
      "Installing collected packages: selenium\n",
      "Successfully installed selenium-3.141.0\n"
     ]
    }
   ],
   "source": [
    "!pip install selenium"
   ]
  },
  {
   "cell_type": "code",
   "execution_count": 16,
   "metadata": {},
   "outputs": [],
   "source": [
    "from selenium import webdriver\n",
    "from bs4 import BeautifulSoup\n",
    "import threading\n",
    "import pandas as pd\n",
    "import time"
   ]
  },
  {
   "cell_type": "code",
   "execution_count": 17,
   "metadata": {},
   "outputs": [],
   "source": [
    "filename = \"google_data_scrapper\"\n",
    "url = https://www.google.com/maps/search/software+company+in+islamabad/@32.598627,73.1171776,8z/data=!3m1!4b1
   ]
  },
  {
   "cell_type": "code",
   "execution_count": null,
   "metadata": {},
   "outputs": [
    {
     "name": "stdout",
     "output_type": "stream",
     "text": [
      "Ishaq Eye Hospital-Top Eye Specialist-Brig R Salahuddin ClinicWebsiteDirections           Saved (0) Saved Save     \n",
      "0307 0590556\n",
      "Dr Moosa Zulfiqar. Dentist. CDDC - Cardio Diabetic & Dental CentreWebsiteDirections           Saved (0) Saved Save     \n",
      "0336 9399938\n",
      "Maroof International HospitalWebsiteDirections           Saved (0) Saved Save     \n",
      "(051) 111 644 911\n",
      "Islamabad International Hospital & Research CenterWebsiteDirections           Saved (0) Saved Save     \n",
      "(051) 2304941\n",
      "Max Health Hospital\n",
      "(051) 8094762\n"
     ]
    }
   ],
   "source": [
    "browser = webdriver.Chrome('C:/chromedriver.exe')\n",
    "record= []\n",
    "e= []\n",
    "def Selenium_extractor():\n",
    "    time.sleep(2)\n",
    "    a=browser.find_elements_by_class_name(\"VkpGBb\")\n",
    "    time.sleep(1)\n",
    "    for i in range(len(a)):\n",
    "        a[i].click()\n",
    "        time.sleep(2)\n",
    "        source=browser.page_source\n",
    "                                                          #Beautiful soup for scraping the html source\n",
    "        soup=BeautifulSoup(source,'html.parser')\n",
    "        try:\n",
    "            Name_Html=soup.findAll('div',{\"class\":\"SPZz6b\"})\n",
    "            \n",
    "            name=Name_Html[0].text\n",
    "            if name not in e:\n",
    "                e.append(name)\n",
    "                print(name)\n",
    "                Phone_Html=soup.findAll('span',{\"class\":\"LrzXr zdqRlf kno-fv\"})    \n",
    "                phone=Phone_Html[0].text\n",
    "                print(phone)\n",
    "            \n",
    "                Address_Html=soup.findAll('span',{\"class\":\"LrzXr\"})\n",
    "                \n",
    "                address=Address_Html[0].text\n",
    "                #print(address)\n",
    "                try:\n",
    "                    Website_Html=soup.findAll('div',{\"class\":\"QqG1Sd\"})\n",
    "                    web=Website_Html[0].findAll('a')\n",
    "            \n",
    "                    website=web[0].get('href')\n",
    "                except:\n",
    "                    website=\"Not available\"\n",
    "                #print(website)\n",
    "                record.append((name,phone,address,website))\n",
    "                df=pd.DataFrame(record,columns=['Name','Phone number','Address','Website'])  # writing data to the file\n",
    "                df.to_csv(filename + '.csv',index=False,encoding='utf-8')\n",
    "\n",
    "        except:\n",
    "            print(\"error\")\n",
    "            continue\n",
    "            \n",
    "\n",
    "        \n",
    "    try:\n",
    "        time.sleep(1)            \n",
    "        next_button=browser.find_element_by_id(\"pnnext\")                  # clicking the next button\n",
    "        next_button.click()\n",
    "        browser.implicitly_wait(2)\n",
    "        time.sleep(2)\n",
    "        Selenium_extractor()\n",
    "    except:\n",
    "        print(\"ERROR occured at clicking net button\")\n",
    "\n",
    "        \n",
    "browser.get(url) \n",
    "time.sleep(10)                                             # pausing the program for 10 secs\n",
    "Selenium_extractor()"
   ]
  },
  {
   "cell_type": "code",
   "execution_count": 9,
   "metadata": {},
   "outputs": [],
   "source": []
  },
  {
   "cell_type": "code",
   "execution_count": 10,
   "metadata": {},
   "outputs": [],
   "source": []
  },
  {
   "cell_type": "code",
   "execution_count": null,
   "metadata": {},
   "outputs": [],
   "source": []
  },
  {
   "cell_type": "code",
   "execution_count": null,
   "metadata": {},
   "outputs": [],
   "source": []
  }
 ],
 "metadata": {
  "kernelspec": {
   "display_name": "Python 3",
   "language": "python",
   "name": "python3"
  },
  "language_info": {
   "codemirror_mode": {
    "name": "ipython",
    "version": 3
   },
   "file_extension": ".py",
   "mimetype": "text/x-python",
   "name": "python",
   "nbconvert_exporter": "python",
   "pygments_lexer": "ipython3",
   "version": "3.8.5"
  }
 },
 "nbformat": 4,
 "nbformat_minor": 4
}
